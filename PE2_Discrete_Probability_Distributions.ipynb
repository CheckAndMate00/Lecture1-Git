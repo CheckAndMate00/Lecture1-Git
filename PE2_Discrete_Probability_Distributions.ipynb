{
  "nbformat": 4,
  "nbformat_minor": 0,
  "metadata": {
    "colab": {
      "provenance": [],
      "toc_visible": true,
      "include_colab_link": true
    },
    "kernelspec": {
      "name": "python3",
      "display_name": "Python 3"
    },
    "language_info": {
      "name": "python"
    }
  },
  "cells": [
    {
      "cell_type": "markdown",
      "metadata": {
        "id": "view-in-github",
        "colab_type": "text"
      },
      "source": [
        "<a href=\"https://colab.research.google.com/github/CheckAndMate00/Lecture1-Git/blob/main/PE2_Discrete_Probability_Distributions.ipynb\" target=\"_parent\"><img src=\"https://colab.research.google.com/assets/colab-badge.svg\" alt=\"Open In Colab\"/></a>"
      ]
    },
    {
      "cell_type": "markdown",
      "source": [
        "## Outline:\n",
        "\n",
        "* In the [last assignment](https://colab.research.google.com/drive/1f61cxUihqQkCVE6TrgX6IoW8WVmv04jy?usp=sharing), we looked at the difference between theoretical and empirical probabilities and also worked through a couple of examples to simulate empirical probability.\n",
        "* In this assignment, we will:\n",
        "    * Simulate a real-world scenario to review our understanding of empirical probabilities\n",
        "    * Produce samples from discrete random variables with special distributions: Bernoulli, Binomial, Geometric, Pascal, Hypergeometric, Pascal.\n"
      ],
      "metadata": {
        "id": "DYYtn4dhK6Z3"
      }
    },
    {
      "cell_type": "markdown",
      "source": [
        "## Case Study: Simulating airplane booking\n",
        "\n",
        "An airplane has seats for 300 passengers. In general, 20% of the people who buy airplane tickets are 40% likely to miss the flight (assume that remaining 80% of the people always show up). So, the airline sells 320 tickets for each trip.\n",
        "\n",
        "### Exercise 1:\n",
        "\n",
        "Estimate the probability that the flight is overbooked i.e. more than 300 people show up with tickets. Use 10000 simulation runs to estimate this probability."
      ],
      "metadata": {
        "id": "_qpTnmneLoFW"
      }
    },
    {
      "cell_type": "code",
      "source": [
        "import numpy as np\n",
        "\n",
        "N_SIMULATIONS = 10000\n",
        "n_seats = 300\n",
        "n_tickets_sold = 320\n",
        "n_certain_passengers = int(n_tickets_sold * 0.8)\n",
        "n_uncertain_passengers = n_tickets_sold - n_certain_passengers\n",
        "\n",
        "n_overbooked = 0\n",
        "\n",
        "for _ in range(N_SIMULATIONS):\n",
        "    n_showed_up = n_certain_passengers\n",
        "    uncertain_passenger_show_up = np.random.choice([0, 1], size=n_uncertain_passengers, p=[0.4, 0.6])\n",
        "    n_showed_up += np.sum(uncertain_passenger_show_up)\n",
        "\n",
        "    if n_showed_up > n_seats:\n",
        "        n_overbooked += 1\n",
        "\n",
        "prob_overbooked = n_overbooked / N_SIMULATIONS\n",
        "print(prob_overbooked)"
      ],
      "metadata": {
        "id": "9eWjUh3HMK1e"
      },
      "execution_count": null,
      "outputs": []
    },
    {
      "cell_type": "markdown",
      "source": [
        "The current structure of the above code has been written for comprehension/readability rather than efficiecy/succinctness. Please feel free to optimize as needed."
      ],
      "metadata": {
        "id": "DKUuiG1i_Jp-"
      }
    },
    {
      "cell_type": "markdown",
      "source": [
        "## Producing samples from distributions of discrete random variables\n",
        "\n",
        "So far, we saw examples of randomly selecting an outcome from a given list when the probability of selecting each outcome from the list was known:\n",
        "* selecting randomly from **[H, T]** where the probabilities of heads and tails are known\n",
        "* selecting randomly from **[1, 2, 3, 4, 5, 6]** where the probabilities of die roll outcome are known\n",
        "* selecting randomly from **[0, 1]** indicating show or no show where the probabilities of showing up or not are known\n",
        "\n",
        "However, now that we have studied more interesting probability distributions, let's try to produce samples from them. We will start with Bernoulli, Binomial, Geometric and Pascal.\n",
        "\n",
        "Run the code cell below. Do you see that the generated values lie in the range of the random variables as expected?"
      ],
      "metadata": {
        "id": "0SCAShQDLdHs"
      }
    },
    {
      "cell_type": "code",
      "source": [
        "from scipy.stats import bernoulli, binom, geom, nbinom\n",
        "\n",
        "n = 100\n",
        "p = 0.6\n",
        "m = 5\n",
        "sample_size = 20\n",
        "\n",
        "# produce instances of values taken by a Bernoulli random variable\n",
        "bernoulli_sample = bernoulli.rvs(p, size=sample_size)\n",
        "print(\"Bernoulli sample: \" + str(bernoulli_sample))\n",
        "\n",
        "# produce instances of values taken by a Binomial random variable\n",
        "binomial_sample = binom.rvs(n, p, size=sample_size)\n",
        "print(\"Binomial sample: \" + str(binomial_sample))\n",
        "\n",
        "# produce instances of values taken by a Geometric random variable\n",
        "geometric_sample = geom.rvs(p, size=sample_size)\n",
        "print(\"Geometric sample: \" + str(geometric_sample))\n",
        "\n",
        "# produce instances of values taken by a Pascal (Negative Binomial) random variable\n",
        "neg_binomial_sample = m + nbinom.rvs(m, p, size=sample_size)\n",
        "print(\"Negative Binomial sample: \" + str(neg_binomial_sample))\n"
      ],
      "metadata": {
        "id": "YeTaQwJULmb4",
        "outputId": "3cb958d2-b8d7-41bf-fc79-625918830982",
        "colab": {
          "base_uri": "https://localhost:8080/"
        }
      },
      "execution_count": null,
      "outputs": [
        {
          "output_type": "stream",
          "name": "stdout",
          "text": [
            "Bernoulli sample: [0 0 1 1 1 0 0 1 1 1 0 0 1 0 0 0 1 0 1 1]\n",
            "Binomial sample: [59 59 53 60 55 55 63 58 53 55 66 60 63 67 64 59 62 52 65 52]\n",
            "Geometric sample: [4 2 2 1 2 1 4 1 1 1 7 1 2 1 1 2 1 1 1 1]\n",
            "Negative Binomial sample: [ 5  8  6  7 11  7  7 11  5 14  5 10  6  6  5  9  5  7  5 10]\n"
          ]
        }
      ]
    },
    {
      "cell_type": "markdown",
      "source": [
        "**Note**: To get the Negative Binomial values in the desired range, we needed to add ***m*** to the generated sample. This is because Python's function for generating these values is written to generate number of failures until m successes rather than the the number of trials until m successes. By adding the constant ***m*** (the number of successes) to the number of failures, we get the total number of trails until ***m*** successes.\n",
        "\n",
        "Now that we eyeballed whether the sample values turn out to be in the desired range, let's experiment with larger sample sizes and see if the mean of the sample matches the expected values of the random variables.\n",
        "\n",
        "### Exercise 2:\n",
        "\n",
        "Complete the code below as directed in the comments."
      ],
      "metadata": {
        "id": "EGLG2F-jEOCN"
      }
    },
    {
      "cell_type": "code",
      "source": [
        "from scipy.stats import bernoulli, binom, geom, nbinom\n",
        "import numpy as np\n",
        "\n",
        "n = 100\n",
        "p = 0.6\n",
        "m = 5\n",
        "new_sample_size = 1000\n",
        "\n",
        "bernoulli_large_sample = bernoulli.rvs(p, size=new_sample_size)\n",
        "print(\"Mean of Bernoulli sample: \" + str(np.mean(bernoulli_large_sample))\n",
        "print(\"Variance of Bernoulli sample: \" + str(np.var(bernoulli_large_sample))\n",
        "print(\"******************************************\")\n",
        "\n",
        "# Generate a large sample of binomial random variables\n",
        "binom_large_sample = binom.rvs(n, p, size=new_sample_size)\n",
        "print(\"Mean of Binomial sample: \" + str(np.mean(binom_large_sample))\n",
        "print(\"Variance of Binomial sample: \" + str(np.var(binom_large_sample))\n",
        "print(\"******************************************\")\n",
        "\n",
        "# Generate a large sample of geometric random variables\n",
        "geometric_large_sample = geom.rvs(p, size=new_sample_size)\n",
        "print(\"Mean of Geometric sample: \" + str(np.mean(geometric_large_sample))\n",
        "print(\"Variance of Geometric sample: \" + str(np.var(geometric_large_sample))\n",
        "print(\"******************************************\")\n",
        "\n",
        "# Generate a large sample of negative binomial (Pascal) random variables\n",
        "neg_binomial_large_sample = nbinom.rvs(m, p, size=new_sample_size)\n",
        "print(\"Mean of Negative Binomial (Pascal) sample: \" + str(np.mean(neg_binomial_large_sample))\n",
        "print(\"Variance of Negative Binomial (Pascal) sample: \" + str(np.var(neg_binomial_large_sample))\n",
        "print(\"******************************************\")\n"
      ],
      "metadata": {
        "id": "YLzTug0wDlVU"
      },
      "execution_count": null,
      "outputs": []
    },
    {
      "cell_type": "markdown",
      "source": [
        "# Exercise 3:\n",
        "\n",
        "Find the expected value and variance for Bernoulli, Binomial, Geometric, and Negative Binomial random variables with the same parameters as in the cell above **using the formulas we discussed in class, then compare them against the empirical values you got from Exercise 2**.\n",
        "\n",
        "Edit this text cell to complete the tables below. See the first row of each table for an example.\n",
        "\n",
        "#### Expected Values\n",
        "\n",
        "Distribution  | Expected Value using formula | Expected Value derived empirically |\n",
        "-------------------|--------------------|-------------------|\n",
        "Bernoulli(0.6) | p = 0.6 | 0.602 |\n",
        "Binomial(10, 0.6) | np = 6 | 6.03 |\n",
        "Geometric(0.6) | 1/p = 1.67 | 1.663 |\n",
        "Negative Binomial(5, 0.6) | r/p = 8.33 | 8.336 |\n",
        "\n",
        "#### Variance\n",
        "\n",
        "Distribution  | Variance using formula | Variance derived empirically |\n",
        "-------------------|--------------------|-------------------|\n",
        "Bernoulli(0.6) | pq = 0.24 | 0.23595 |\n",
        "Binomial(10, 0.6) | npq = 2.4 | 2.4018 |\n",
        "Geometric(0.6) | (1-p) / (p^2) = 2.78 | 2.787 |\n",
        "Negative Binomial(5, 0.6) | (r(1-p)) / (p^2) = 8.33 | 8.338 |"
      ],
      "metadata": {
        "id": "nPBCCdCTJWoO"
      }
    },
    {
      "cell_type": "markdown",
      "source": [
        "## Plotting\n",
        "\n",
        "Let's plot the histograms of the above samples to visualize the distributions.\n",
        "\n",
        "### Exercise 4:\n",
        "\n",
        "Simply run the code cells below to generate plots for each distribution. You do not need to modify the code cells. However, the cells for plotting Binomial, Geometric, and Negative Binomial distributions won't work as expected until you complete Exercise 2."
      ],
      "metadata": {
        "id": "EOzTdb9FM4mm"
      }
    },
    {
      "cell_type": "code",
      "source": [
        "import matplotlib.pyplot as plt"
      ],
      "metadata": {
        "id": "mUsOiKECNU0E"
      },
      "execution_count": null,
      "outputs": []
    },
    {
      "cell_type": "code",
      "source": [
        "plt.hist(bernoulli_large_sample)"
      ],
      "metadata": {
        "id": "sdOGRiHcM3zW"
      },
      "execution_count": null,
      "outputs": []
    },
    {
      "cell_type": "code",
      "source": [
        "# this code cell will run as expected after completing Exercise 2\n",
        "plt.hist(binomial_large_sample)"
      ],
      "metadata": {
        "id": "81HDvxyQNXBT"
      },
      "execution_count": null,
      "outputs": []
    },
    {
      "cell_type": "code",
      "source": [
        "# this code cell will run as expected after completing Exercise 2\n",
        "plt.hist(geometric_large_sample)"
      ],
      "metadata": {
        "id": "zCe7LED0NiN2"
      },
      "execution_count": null,
      "outputs": []
    },
    {
      "cell_type": "code",
      "source": [
        "# this code cell will run as expected after completing Exercise 2\n",
        "plt.hist(neg_binomial_large_sample)"
      ],
      "metadata": {
        "id": "FLTmwOQeNllC"
      },
      "execution_count": null,
      "outputs": []
    },
    {
      "cell_type": "markdown",
      "source": [
        "## What about Hypergeometric and Poisson random variables?\n",
        "\n",
        "You can generate samples of hypergeometric and Poisson random variables also in the same manner as you did for the other distributions! Check out the documentation links [here](https://docs.scipy.org/doc/scipy/reference/generated/scipy.stats.hypergeom.html#scipy.stats.hypergeom) and [here](https://docs.scipy.org/doc/scipy/reference/generated/scipy.stats.poisson.html#scipy.stats.poisson)\n",
        "\n",
        "#### Optional Exercise:\n",
        "\n",
        "You may use the code cell below to try out Exercises 2 and 3 for hypergeometric and poisson distributions."
      ],
      "metadata": {
        "id": "tTzhKiRRIATg"
      }
    },
    {
      "cell_type": "code",
      "source": [],
      "metadata": {
        "id": "bWlxGzATMF4w"
      },
      "execution_count": null,
      "outputs": []
    }
  ]
}